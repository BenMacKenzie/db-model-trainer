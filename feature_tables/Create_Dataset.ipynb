{
 "cells": [
  {
   "cell_type": "code",
   "execution_count": 0,
   "metadata": {
    "application/vnd.databricks.v1+cell": {
     "cellMetadata": {
      "byteLimit": 2048000,
      "rowLimit": 10000
     },
     "inputWidgets": {},
     "nuid": "1cf311fe-3dff-4f23-b891-c821c63b1fb8",
     "showTitle": false,
     "tableResultSettingsMap": {},
     "title": ""
    }
   },
   "outputs": [],
   "source": [
    "%pip install databricks-feature-engineering\n",
    "%restart_python "
   ]
  },
  {
   "cell_type": "code",
   "execution_count": 0,
   "metadata": {
    "application/vnd.databricks.v1+cell": {
     "cellMetadata": {
      "byteLimit": 2048000,
      "rowLimit": 10000
     },
     "inputWidgets": {},
     "nuid": "b39cc630-3267-4cdc-98cc-d8908c9bf4e2",
     "showTitle": false,
     "tableResultSettingsMap": {},
     "title": ""
    }
   },
   "outputs": [],
   "source": [
    "dbutils.widgets.text(\"project_catalog_name\", \"\", \"project_catalog_name\")\n",
    "dbutils.widgets.text(\"project_schema_name\", \"\", \"project_schema_name\")\n",
    "dbutils.widgets.text(\"features\", \"\", \"features\")\n",
    "dbutils.widgets.text(\"name\", \"\", \"name\")\n",
    "dbutils.widgets.text(\"eol_view\", \"\", \"eol_view\")\n",
    "dbutils.widgets.text(\"label\", \"\", \"label\")\n",
    "\n"
   ]
  },
  {
   "cell_type": "code",
   "execution_count": 0,
   "metadata": {
    "application/vnd.databricks.v1+cell": {
     "cellMetadata": {
      "byteLimit": 2048000,
      "rowLimit": 10000
     },
     "inputWidgets": {},
     "nuid": "ca5f1277-ac45-416c-b193-116022e388e9",
     "showTitle": false,
     "tableResultSettingsMap": {},
     "title": ""
    }
   },
   "outputs": [],
   "source": [
    "project_catalog_name = dbutils.widgets.get(\"project_catalog_name\")\n",
    "project_schema_name = dbutils.widgets.get(\"project_schema_name\")\n",
    "features = dbutils.widgets.get(\"features\")\n",
    "name = dbutils.widgets.get(\"name\")\n",
    "eol_view = dbutils.widgets.get(\"eol_view\")\n",
    "label = dbutils.widgets.get(\"label\")\n"
   ]
  },
  {
   "cell_type": "code",
   "execution_count": 0,
   "metadata": {
    "application/vnd.databricks.v1+cell": {
     "cellMetadata": {
      "byteLimit": 2048000,
      "rowLimit": 10000
     },
     "inputWidgets": {},
     "nuid": "09e9dcd4-4a79-403a-a2a3-186f515f9e9e",
     "showTitle": false,
     "tableResultSettingsMap": {},
     "title": ""
    }
   },
   "outputs": [],
   "source": [
    "import sys\n",
    "import json\n",
    "from typing import List, Dict, Any\n",
    "from databricks.feature_engineering.entities.feature_lookup import FeatureLookup\n",
    "from databricks.feature_engineering import FeatureEngineeringClient, FeatureFunction\n",
    "\n",
    "fe = FeatureEngineeringClient()"
   ]
  },
  {
   "cell_type": "code",
   "execution_count": 0,
   "metadata": {
    "application/vnd.databricks.v1+cell": {
     "cellMetadata": {},
     "inputWidgets": {},
     "nuid": "a05200ca-6a9d-40f0-afcf-ab431fa57ba4",
     "showTitle": false,
     "tableResultSettingsMap": {},
     "title": ""
    }
   },
   "outputs": [],
   "source": [
    "import json\n",
    "\n",
    "try:\n",
    "    \n",
    "    features = json.loads(features)\n",
    "\n",
    "except json.JSONDecodeError as e:\n",
    "    print(f\"Error parsing features JSON: {e}\")\n",
    "    dbutils.notebook.exit(\"Failed to parse features JSON\")\n",
    "except Exception as e:\n",
    "    print(f\"Error processing features: {e}\")\n",
    "    dbutils.notebook.exit(\"Failed to process features\")\n",
    "\n",
    "\n",
    "# Generate FeatureLookup objects\n",
    "feature_lookups = []\n",
    "\n",
    "for feat in features:\n",
    "    if isinstance(feat, str):\n",
    "        try:\n",
    "            # Try to parse as JSON first\n",
    "            feat_dict = json.loads(feat)\n",
    "        \n",
    "        except json.JSONDecodeError:\n",
    "            # Handle the case where feat is not a valid JSON string\n",
    "            break;\n",
    "    elif isinstance(feat, dict):\n",
    "        feat_dict = feat\n",
    "    else:\n",
    "        print(f\"Warning: Unexpected feature format: {feat}\")\n",
    "        break\n",
    "    \n",
    "\n",
    "    # Extract components\n",
    "    \n",
    "    table_name = feat_dict.get('table', '')\n",
    "    feature_names = feat_dict.get('features', [])\n",
    "    lookup_key = feat_dict.get('lookup_key')\n",
    "    timestamp_key = feat_dict.get('timestamp_key', None)\n",
    "    \n",
    "    if not table_name:\n",
    "        continue\n",
    "        \n",
    "    if not lookup_key:\n",
    "        continue\n",
    "    \n",
    "    # Create FeatureLookup object\n",
    "    if timestamp_key:\n",
    "        feature_lookup_obj = FeatureLookup(\n",
    "            table_name=table_name,\n",
    "            feature_names=feature_names,\n",
    "            lookup_key=lookup_key,\n",
    "            timestamp_lookup_key=timestamp_key\n",
    "        )\n",
    "    else:\n",
    "        feature_lookup_obj = FeatureLookup(\n",
    "            table_name=table_name,\n",
    "            feature_names=feature_names,\n",
    "            lookup_key=lookup_key\n",
    "        )\n",
    "    \n",
    "    feature_lookups.append(feature_lookup_obj)"
   ]
  },
  {
   "cell_type": "code",
   "execution_count": 0,
   "metadata": {
    "application/vnd.databricks.v1+cell": {
     "cellMetadata": {
      "byteLimit": 2048000,
      "rowLimit": 10000
     },
     "inputWidgets": {},
     "nuid": "ac7edd78-af81-4eb7-830c-5f3bc47bada7",
     "showTitle": false,
     "tableResultSettingsMap": {},
     "title": ""
    }
   },
   "outputs": [],
   "source": [
    "import time\n",
    "\n",
    "def create_table_with_epoch(df, split, catalog, schema, base_name):\n",
    "    base_name = base_name.replace(' ', '_')\n",
    "    epoch = int(time.time())\n",
    "    train_table_name = f\"{base_name}_train_{epoch}\"\n",
    "    eval_table_name = f\"{base_name}_eval_{epoch}\"\n",
    "    train_df, val_df = df.randomSplit([1.0 - split, split], seed=42)\n",
    "    train_df.write.saveAsTable(f\"{catalog}.{schema}.{train_table_name}\")\n",
    "    val_df.write.saveAsTable(f\"{catalog}.{schema}.{eval_table_name}\")\n",
    "    return train_table_name, eval_table_name\n",
    "    "
   ]
  },
  {
   "cell_type": "code",
   "execution_count": 0,
   "metadata": {
    "application/vnd.databricks.v1+cell": {
     "cellMetadata": {},
     "inputWidgets": {},
     "nuid": "ab37621b-9d4b-4c42-b91a-b7b1c618d4fe",
     "showTitle": false,
     "tableResultSettingsMap": {},
     "title": ""
    }
   },
   "outputs": [],
   "source": [
    "df = spark.sql(f\"SELECT * FROM {eol_view}\")"
   ]
  },
  {
   "cell_type": "code",
   "execution_count": 0,
   "metadata": {
    "application/vnd.databricks.v1+cell": {
     "cellMetadata": {},
     "inputWidgets": {},
     "nuid": "a4f2fbb0-ba9e-4c4d-a442-dec54c71fe61",
     "showTitle": false,
     "tableResultSettingsMap": {},
     "title": ""
    }
   },
   "outputs": [],
   "source": [
    "exclude_columns = [col for col in df.columns if col != label]\n",
    "print(exclude_columns)"
   ]
  },
  {
   "cell_type": "code",
   "execution_count": 0,
   "metadata": {
    "application/vnd.databricks.v1+cell": {
     "cellMetadata": {
      "byteLimit": 2048000,
      "rowLimit": 10000
     },
     "inputWidgets": {},
     "nuid": "2877dadf-0b8b-4e72-aecf-787c6d2c86dd",
     "showTitle": false,
     "tableResultSettingsMap": {},
     "title": ""
    }
   },
   "outputs": [],
   "source": [
    "training_set = fe.create_training_set(\n",
    "  df=df,\n",
    "  feature_lookups=feature_lookups,\n",
    "  label=label,\n",
    "  exclude_columns = exclude_columns\n",
    ")\n",
    "\n",
    "training_df = training_set.load_df()"
   ]
  },
  {
   "cell_type": "code",
   "execution_count": 0,
   "metadata": {
    "application/vnd.databricks.v1+cell": {
     "cellMetadata": {
      "byteLimit": 2048000,
      "rowLimit": 10000
     },
     "inputWidgets": {},
     "nuid": "db062ffd-a5f6-462a-8122-c27e3020d180",
     "showTitle": false,
     "tableResultSettingsMap": {},
     "title": ""
    }
   },
   "outputs": [],
   "source": [
    "train_table_name, eval_table_name = create_table_with_epoch(training_df, 0.2, project_catalog_name, project_schema_name, name)"
   ]
  },
  {
   "cell_type": "code",
   "execution_count": 0,
   "metadata": {
    "application/vnd.databricks.v1+cell": {
     "cellMetadata": {},
     "inputWidgets": {},
     "nuid": "2daae97b-ecfe-4410-b44d-df00d151fe1a",
     "showTitle": false,
     "tableResultSettingsMap": {},
     "title": ""
    }
   },
   "outputs": [],
   "source": [
    "dbutils.jobs.taskValues.set(key=\"train_table_name\", value=train_table_name)\n",
    "dbutils.jobs.taskValues.set(key=\"eval_table_name\", value=eval_table_name)"
   ]
  },
  {
   "cell_type": "code",
   "execution_count": 0,
   "metadata": {
    "application/vnd.databricks.v1+cell": {
     "cellMetadata": {},
     "inputWidgets": {},
     "nuid": "23bf30a1-17a0-4278-86a4-3936a9b28cf5",
     "showTitle": false,
     "tableResultSettingsMap": {},
     "title": ""
    }
   },
   "outputs": [],
   "source": [
    "import json\n",
    "\n",
    "dbutils.notebook.exit(json.dumps({\n",
    "    'train_table_name': train_table_name,\n",
    "    'eval_table_name': eval_table_name\n",
    "}))\n"
   ]
  }
 ],
 "metadata": {
  "application/vnd.databricks.v1+notebook": {
   "computePreferences": null,
   "dashboards": [],
   "environmentMetadata": {
    "base_environment": "",
    "environment_version": "2"
   },
   "inputWidgetPreferences": null,
   "language": "python",
   "notebookMetadata": {
    "mostRecentlyExecutedCommandWithImplicitDF": {
     "commandId": 6739265453164150,
     "dataframes": [
      "_sqldf"
     ]
    },
    "pythonIndentUnit": 4
   },
   "notebookName": "Create_Dataset",
   "widgets": {
    "eol_view": {
     "currentValue": "mlops_demo.credit_card_fraud_demo.card_present",
     "nuid": "e3febec0-9843-451b-9cf2-90acbcdd562d",
     "typedWidgetInfo": {
      "autoCreated": false,
      "defaultValue": "",
      "label": "eol_view",
      "name": "eol_view",
      "options": {
       "widgetDisplayType": "Text",
       "validationRegex": null
      },
      "parameterDataType": "String"
     },
     "widgetInfo": {
      "widgetType": "text",
      "defaultValue": "",
      "label": "eol_view",
      "name": "eol_view",
      "options": {
       "widgetType": "text",
       "autoCreated": null,
       "validationRegex": null
      }
     }
    },
    "features": {
     "currentValue": "",
     "nuid": "f17deb1b-14b3-4e8b-b6e2-fd2a0747e188",
     "typedWidgetInfo": {
      "autoCreated": false,
      "defaultValue": "",
      "label": "features",
      "name": "features",
      "options": {
       "widgetDisplayType": "Text",
       "validationRegex": null
      },
      "parameterDataType": "String"
     },
     "widgetInfo": {
      "widgetType": "text",
      "defaultValue": "",
      "label": "features",
      "name": "features",
      "options": {
       "widgetType": "text",
       "autoCreated": null,
       "validationRegex": null
      }
     }
    },
    "label": {
     "currentValue": "label",
     "nuid": "e2cd8146-1522-4d6c-a3d5-03f997a79f00",
     "typedWidgetInfo": {
      "autoCreated": false,
      "defaultValue": "",
      "label": "label",
      "name": "label",
      "options": {
       "widgetDisplayType": "Text",
       "validationRegex": null
      },
      "parameterDataType": "String"
     },
     "widgetInfo": {
      "widgetType": "text",
      "defaultValue": "",
      "label": "label",
      "name": "label",
      "options": {
       "widgetType": "text",
       "autoCreated": null,
       "validationRegex": null
      }
     }
    },
    "name": {
     "currentValue": "",
     "nuid": "cbd8689e-2c3c-415b-a83c-17b905d6697f",
     "typedWidgetInfo": {
      "autoCreated": false,
      "defaultValue": "",
      "label": "name",
      "name": "name",
      "options": {
       "widgetDisplayType": "Text",
       "validationRegex": null
      },
      "parameterDataType": "String"
     },
     "widgetInfo": {
      "widgetType": "text",
      "defaultValue": "",
      "label": "name",
      "name": "name",
      "options": {
       "widgetType": "text",
       "autoCreated": false,
       "validationRegex": null
      }
     }
    },
    "project_catalog_name": {
     "currentValue": "mlops_demo",
     "nuid": "b13ba8eb-ac0d-4cde-9420-d2a6039a994a",
     "typedWidgetInfo": {
      "autoCreated": false,
      "defaultValue": "",
      "label": "project_catalog_name",
      "name": "project_catalog_name",
      "options": {
       "widgetDisplayType": "Text",
       "validationRegex": null
      },
      "parameterDataType": "String"
     },
     "widgetInfo": {
      "widgetType": "text",
      "defaultValue": "",
      "label": "project_catalog_name",
      "name": "project_catalog_name",
      "options": {
       "widgetType": "text",
       "autoCreated": null,
       "validationRegex": null
      }
     }
    },
    "project_schema_name": {
     "currentValue": "credit_card_fraud_demo",
     "nuid": "7c5e69a3-ade4-4c31-92dd-dcd026b453ae",
     "typedWidgetInfo": {
      "autoCreated": false,
      "defaultValue": "",
      "label": "project_schema_name",
      "name": "project_schema_name",
      "options": {
       "widgetDisplayType": "Text",
       "validationRegex": null
      },
      "parameterDataType": "String"
     },
     "widgetInfo": {
      "widgetType": "text",
      "defaultValue": "",
      "label": "project_schema_name",
      "name": "project_schema_name",
      "options": {
       "widgetType": "text",
       "autoCreated": null,
       "validationRegex": null
      }
     }
    }
   }
  },
  "language_info": {
   "name": "python"
  }
 },
 "nbformat": 4,
 "nbformat_minor": 0
}
