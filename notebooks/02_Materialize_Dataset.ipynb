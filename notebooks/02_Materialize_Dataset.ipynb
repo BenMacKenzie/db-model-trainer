{
 "cells": [
  {
   "cell_type": "markdown",
   "metadata": {
    "application/vnd.databricks.v1+cell": {
     "cellMetadata": {
      "byteLimit": 2048000,
      "rowLimit": 10000
     },
     "inputWidgets": {},
     "nuid": "4947933d-bf22-4db9-9457-02db1f314efd",
     "showTitle": false,
     "tableResultSettingsMap": {},
     "title": ""
    }
   },
   "source": [
    "is this the right way to do this or should I read and write to a control table in postgres? (from the job)"
   ]
  },
  {
   "cell_type": "code",
   "execution_count": 0,
   "metadata": {
    "application/vnd.databricks.v1+cell": {
     "cellMetadata": {
      "byteLimit": 2048000,
      "rowLimit": 10000
     },
     "inputWidgets": {},
     "nuid": "6e1aa43b-9d5c-4924-8483-e943a164cc4b",
     "showTitle": false,
     "tableResultSettingsMap": {},
     "title": ""
    }
   },
   "outputs": [],
   "source": [
    "dbutils.widgets.text(\"dataset_name\", \"\", \"Dataset Name\")\n",
    "dbutils.widgets.text(\"project_catalog\", \"\", \"Catalog\")\n",
    "dbutils.widgets.text(\"project_schema\", \"\", \"Schema\")\n",
    "dbutils.widgets.text(\"target\", \"\", \"Target\")\n",
    "dbutils.widgets.text(\"source_table\", \"\", \"Source Table\")\n",
    "dbutils.widgets.text(\"source_type\" ,\"\", \"Source Type\")\n",
    "dbutils.widgets.text(\"evaluation_type\" ,\"\", \"Eval Type\")\n",
    "dbutils.widgets.text(\"time_column\" ,\"\", \"Time Column\")\n",
    "dbutils.widgets.text(\"split_precentage\", \"\", \"Split Percentage\")\n"
   ]
  },
  {
   "cell_type": "code",
   "execution_count": 0,
   "metadata": {
    "application/vnd.databricks.v1+cell": {
     "cellMetadata": {
      "byteLimit": 2048000,
      "rowLimit": 10000
     },
     "inputWidgets": {},
     "nuid": "30188639-bda1-4c68-99b5-c225c3e2c6a2",
     "showTitle": false,
     "tableResultSettingsMap": {},
     "title": ""
    }
   },
   "outputs": [],
   "source": [
    "dataset_name = dbutils.widgets.get(\"dataset_name\")\n",
    "project_catalog = dbutils.widgets.get(\"project_catalog\")\n",
    "project_schema = dbutils.widgets.get(\"project_schema\")\n",
    "target = dbutils.widgets.get(\"target\")\n",
    "source_table = dbutils.widgets.get(\"source_table\")\n",
    "source_type = dbutils.widgets.get(\"source_type\")\n",
    "evaluation_type = dbutils.widgets.get(\"evaluation_type\")\n",
    "time_column = dbutils.widgets.get(\"time_column\")\n",
    "split_percentage = dbutils.widgets.get(\"split_precentage\")"
   ]
  },
  {
   "cell_type": "code",
   "execution_count": 0,
   "metadata": {
    "application/vnd.databricks.v1+cell": {
     "cellMetadata": {
      "byteLimit": 2048000,
      "rowLimit": 10000
     },
     "inputWidgets": {},
     "nuid": "10d2ecba-5941-4bc7-97df-c20368fd4476",
     "showTitle": false,
     "tableResultSettingsMap": {},
     "title": ""
    }
   },
   "outputs": [],
   "source": [
    "from sklearn.model_selection import train_test_split\n"
   ]
  },
  {
   "cell_type": "code",
   "execution_count": 0,
   "metadata": {
    "application/vnd.databricks.v1+cell": {
     "cellMetadata": {
      "byteLimit": 2048000,
      "rowLimit": 10000
     },
     "inputWidgets": {},
     "nuid": "10f8d5d6-98b4-42a3-8871-47a0a345f36f",
     "showTitle": false,
     "tableResultSettingsMap": {},
     "title": ""
    }
   },
   "outputs": [],
   "source": [
    "import time\n",
    "current_datetime_seconds = int(time.time())\n",
    "train_dataset = f\"{dataset_name}_train_{current_datetime_seconds}\"\n",
    "test_dataset = f\"{dataset_name}_test_{current_datetime_seconds}\"\n"
   ]
  },
  {
   "cell_type": "code",
   "execution_count": 0,
   "metadata": {
    "application/vnd.databricks.v1+cell": {
     "cellMetadata": {
      "byteLimit": 2048000,
      "rowLimit": 10000
     },
     "inputWidgets": {},
     "nuid": "cb8c748a-50c0-4875-aefb-fa96712743eb",
     "showTitle": false,
     "tableResultSettingsMap": {},
     "title": ""
    }
   },
   "outputs": [],
   "source": [
    "import json\n",
    "\n",
    "result = {\"train_dataset\": train_dataset, \"test_dataset\": test_dataset}\n",
    "\n",
    "# Return JSON string at the end\n",
    "dbutils.notebook.exit(json.dumps(result))"
   ]
  }
 ],
 "metadata": {
  "application/vnd.databricks.v1+notebook": {
   "computePreferences": null,
   "dashboards": [],
   "environmentMetadata": {
    "base_environment": "",
    "environment_version": "2"
   },
   "inputWidgetPreferences": null,
   "language": "python",
   "notebookMetadata": {
    "pythonIndentUnit": 2
   },
   "notebookName": "02_Materialize_Dataset",
   "widgets": {
    "dataset_name": {
     "currentValue": "titanic",
     "nuid": "3a3cb561-a604-4ac5-adda-c3c45ed8ba67",
     "typedWidgetInfo": {
      "autoCreated": false,
      "defaultValue": "",
      "label": "Dataset Name",
      "name": "dataset_name",
      "options": {
       "widgetDisplayType": "Text",
       "validationRegex": null
      },
      "parameterDataType": "String"
     },
     "widgetInfo": {
      "widgetType": "text",
      "defaultValue": "",
      "label": "Dataset Name",
      "name": "dataset_name",
      "options": {
       "widgetType": "text",
       "autoCreated": false,
       "validationRegex": null
      }
     }
    },
    "evaluation_type": {
     "currentValue": "",
     "nuid": "09ea72d4-a553-426b-95c1-b580b49dea1e",
     "typedWidgetInfo": {
      "autoCreated": false,
      "defaultValue": "",
      "label": "Eval Type",
      "name": "evaluation_type",
      "options": {
       "widgetDisplayType": "Text",
       "validationRegex": null
      },
      "parameterDataType": "String"
     },
     "widgetInfo": {
      "widgetType": "text",
      "defaultValue": "",
      "label": "Eval Type",
      "name": "evaluation_type",
      "options": {
       "widgetType": "text",
       "autoCreated": false,
       "validationRegex": null
      }
     }
    },
    "project_catalog": {
     "currentValue": "",
     "nuid": "d41afa7c-10da-42a7-996d-ef60313bc9f0",
     "typedWidgetInfo": {
      "autoCreated": false,
      "defaultValue": "",
      "label": "Catalog",
      "name": "project_catalog",
      "options": {
       "widgetDisplayType": "Text",
       "validationRegex": null
      },
      "parameterDataType": "String"
     },
     "widgetInfo": {
      "widgetType": "text",
      "defaultValue": "",
      "label": "Catalog",
      "name": "project_catalog",
      "options": {
       "widgetType": "text",
       "autoCreated": false,
       "validationRegex": null
      }
     }
    },
    "project_schema": {
     "currentValue": "",
     "nuid": "75b81b11-8d1d-4a95-8f23-e2c998e74587",
     "typedWidgetInfo": {
      "autoCreated": false,
      "defaultValue": "",
      "label": "Schema",
      "name": "project_schema",
      "options": {
       "widgetDisplayType": "Text",
       "validationRegex": null
      },
      "parameterDataType": "String"
     },
     "widgetInfo": {
      "widgetType": "text",
      "defaultValue": "",
      "label": "Schema",
      "name": "project_schema",
      "options": {
       "widgetType": "text",
       "autoCreated": false,
       "validationRegex": null
      }
     }
    },
    "source_table": {
     "currentValue": "",
     "nuid": "b05ed2a6-8f65-4ddc-8ba0-ac38be58f015",
     "typedWidgetInfo": {
      "autoCreated": false,
      "defaultValue": "",
      "label": "Source Table",
      "name": "source_table",
      "options": {
       "widgetDisplayType": "Text",
       "validationRegex": null
      },
      "parameterDataType": "String"
     },
     "widgetInfo": {
      "widgetType": "text",
      "defaultValue": "",
      "label": "Source Table",
      "name": "source_table",
      "options": {
       "widgetType": "text",
       "autoCreated": false,
       "validationRegex": null
      }
     }
    },
    "source_type": {
     "currentValue": "",
     "nuid": "c6614451-91d7-4dc4-88c7-33dd65cb0e86",
     "typedWidgetInfo": {
      "autoCreated": false,
      "defaultValue": "",
      "label": "Source Type",
      "name": "source_type",
      "options": {
       "widgetDisplayType": "Text",
       "validationRegex": null
      },
      "parameterDataType": "String"
     },
     "widgetInfo": {
      "widgetType": "text",
      "defaultValue": "",
      "label": "Source Type",
      "name": "source_type",
      "options": {
       "widgetType": "text",
       "autoCreated": false,
       "validationRegex": null
      }
     }
    },
    "split_precentage": {
     "currentValue": "",
     "nuid": "acf3a2e4-fa9b-4172-84fa-e14f703ef82b",
     "typedWidgetInfo": {
      "autoCreated": false,
      "defaultValue": "",
      "label": "Split Percentage",
      "name": "split_precentage",
      "options": {
       "widgetDisplayType": "Text",
       "validationRegex": null
      },
      "parameterDataType": "String"
     },
     "widgetInfo": {
      "widgetType": "text",
      "defaultValue": "",
      "label": "Split Percentage",
      "name": "split_precentage",
      "options": {
       "widgetType": "text",
       "autoCreated": false,
       "validationRegex": null
      }
     }
    },
    "target": {
     "currentValue": "",
     "nuid": "4456501e-8d03-4222-83d2-74023e30bc6f",
     "typedWidgetInfo": {
      "autoCreated": false,
      "defaultValue": "",
      "label": "Target",
      "name": "target",
      "options": {
       "widgetDisplayType": "Text",
       "validationRegex": null
      },
      "parameterDataType": "String"
     },
     "widgetInfo": {
      "widgetType": "text",
      "defaultValue": "",
      "label": "Target",
      "name": "target",
      "options": {
       "widgetType": "text",
       "autoCreated": false,
       "validationRegex": null
      }
     }
    },
    "time_column": {
     "currentValue": "",
     "nuid": "b0f2d91a-bb3a-4242-9aec-136b06a7e1b7",
     "typedWidgetInfo": {
      "autoCreated": false,
      "defaultValue": "",
      "label": "Time Column",
      "name": "time_column",
      "options": {
       "widgetDisplayType": "Text",
       "validationRegex": null
      },
      "parameterDataType": "String"
     },
     "widgetInfo": {
      "widgetType": "text",
      "defaultValue": "",
      "label": "Time Column",
      "name": "time_column",
      "options": {
       "widgetType": "text",
       "autoCreated": false,
       "validationRegex": null
      }
     }
    }
   }
  },
  "language_info": {
   "name": "python"
  }
 },
 "nbformat": 4,
 "nbformat_minor": 0
}
